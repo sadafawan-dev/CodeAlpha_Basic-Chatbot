{
  "nbformat": 4,
  "nbformat_minor": 0,
  "metadata": {
    "colab": {
      "provenance": []
    },
    "kernelspec": {
      "name": "python3",
      "display_name": "Python 3"
    },
    "language_info": {
      "name": "python"
    }
  },
  "cells": [
    {
      "cell_type": "code",
      "execution_count": 1,
      "metadata": {
        "colab": {
          "base_uri": "https://localhost:8080/"
        },
        "id": "eJqnnj7QMQBc",
        "outputId": "6156fe93-869d-450d-bd40-9e2a36b2000a"
      },
      "outputs": [
        {
          "output_type": "stream",
          "name": "stdout",
          "text": [
            "===================================\n",
            "🤖 Welcome to the Basic Chatbot!\n",
            "Type 'bye' to end the chat.\n",
            "===================================\n",
            "You: hello\n",
            "Bot: 👋 Hi there! How can I help you today?\n",
            "You: tell me your working hours\n",
            "Bot: 🤔 Sorry, I didn’t understand that. Try saying 'hello' or 'bye'.\n",
            "You: how are you\n",
            "Bot: 😊 I'm just a bunch of Python code, but I'm doing great! How about you?\n",
            "You: bye\n",
            "Bot: 👋 Goodbye! Have a great day!\n",
            "✅ Chat session ended.\n"
          ]
        }
      ],
      "source": [
        "# ============================================\n",
        "# 🤖 Basic Chatbot (Rule-Based)\n",
        "# ============================================\n",
        "# ✅ Features:\n",
        "# 1. Takes user input in a loop\n",
        "# 2. Uses if-elif statements for rule-based replies\n",
        "# 3. Uses functions for modularity\n",
        "# 4. Runs smoothly in Google Colab or local Python\n",
        "# ============================================\n",
        "\n",
        "def chatbot_response(user_input):\n",
        "    \"\"\"Return a predefined response based on user input.\"\"\"\n",
        "    user_input = user_input.lower().strip()\n",
        "\n",
        "    # Rule-based responses\n",
        "    if user_input in [\"hi\", \"hello\", \"hey\"]:\n",
        "        return \"👋 Hi there! How can I help you today?\"\n",
        "    elif user_input in [\"how are you\", \"how r u\", \"how are you doing\"]:\n",
        "        return \"😊 I'm just a bunch of Python code, but I'm doing great! How about you?\"\n",
        "    elif user_input in [\"i'm fine\", \"i am fine\", \"good\", \"great\"]:\n",
        "        return \"😄 Glad to hear that!\"\n",
        "    elif user_input in [\"what is your name\", \"who are you\"]:\n",
        "        return \"🤖 I'm your friendly Python chatbot!\"\n",
        "    elif user_input in [\"bye\", \"goodbye\", \"exit\", \"quit\"]:\n",
        "        return \"👋 Goodbye! Have a great day!\"\n",
        "    else:\n",
        "        return \"🤔 Sorry, I didn’t understand that. Try saying 'hello' or 'bye'.\"\n",
        "\n",
        "def main():\n",
        "    \"\"\"Main chatbot loop.\"\"\"\n",
        "    print(\"===================================\")\n",
        "    print(\"🤖 Welcome to the Basic Chatbot!\")\n",
        "    print(\"Type 'bye' to end the chat.\")\n",
        "    print(\"===================================\")\n",
        "\n",
        "    while True:\n",
        "        user_input = input(\"You: \")\n",
        "        response = chatbot_response(user_input)\n",
        "        print(\"Bot:\", response)\n",
        "\n",
        "        # Exit loop if user says bye\n",
        "        if user_input.lower() in [\"bye\", \"goodbye\", \"exit\", \"quit\"]:\n",
        "            break\n",
        "\n",
        "    print(\"✅ Chat session ended.\")\n",
        "\n",
        "# Run chatbot\n",
        "if __name__ == \"__main__\":\n",
        "    main()\n"
      ]
    }
  ]
}